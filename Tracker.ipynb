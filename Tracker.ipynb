{
 "cells": [
  {
   "cell_type": "code",
   "execution_count": 2,
   "metadata": {},
   "outputs": [
    {
     "data": {
      "application/vnd.jupyter.widget-view+json": {
       "model_id": "a4d5779c1ff44805a52d11c562c9b692",
       "version_major": 2,
       "version_minor": 0
      },
      "text/plain": [
       "VBox(children=(Dropdown(options=(('All', ['West', 'East']), ('West', ['West']), ('East', ['East'])), value=['W…"
      ]
     },
     "metadata": {},
     "output_type": "display_data"
    }
   ],
   "source": [
    "import pandas as pd\n",
    "import plotly.io as pio\n",
    "import plotly.express as px\n",
    "import plotly.graph_objects as go\n",
    "import numpy as np\n",
    "import ipywidgets as w\n",
    "from IPython.display import display\n",
    "\n",
    "input_df = pd.read_csv('data/Tracker Quotes 2018-2021 v2.csv', \n",
    "                       encoding = \"utf8\", thousands = \",\")\n",
    "#convert string to date-time format to enable date related analysis\n",
    "input_df[\"Date\"] = pd.to_datetime(input_df[\"Date\"]).dt.strftime(\"%m-%d-%Y\")\n",
    "convert_dict = {\"System Size (kW)\": float}\n",
    "input_df = input_df.astype(convert_dict)\n",
    "\n",
    "trace_list = []\n",
    "for vendor in input_df[\"Manufacturer\"].unique():\n",
    "    trace_list.append(\n",
    "        {\"x\": input_df[input_df[\"Manufacturer\"] == vendor][\"System Size (kW)\"],\n",
    "         \"y\": input_df[input_df[\"Manufacturer\"] == vendor][\"Adjusted Material $/W\"],\n",
    "         \"type\": \"scatter\",\n",
    "         \"mode\": \"markers\",\n",
    "         \"name\": \"{}\".format(vendor),\n",
    "         \"customdata\": np.stack((input_df[input_df[\"Manufacturer\"] == vendor][\"Date\"],\n",
    "                                 input_df[input_df[\"Manufacturer\"] == vendor][\"Project\"]), axis = -1),\n",
    "         \"hovertemplate\": '<b> %{customdata[1]} </b>' +\\\n",
    "                          '<br>%{customdata[0]}<br>' +\\\n",
    "                          '<br>%{x:.2f} kW' +\\\n",
    "                          '<br>$%{y:.3f} / W'\n",
    "        }\n",
    "    )\n",
    "\n",
    "layout = dict(title = \"Material $/W vs System Size (kW-DC)\",\n",
    "              title_x = 0.5,\n",
    "              xaxis = dict(title = \"System kW-DC\",\n",
    "                           tickformat = \"digits\"),\n",
    "              yaxis = dict(title = \"Racking Material $/W\")\n",
    "             )\n",
    "\n",
    "fig = go.FigureWidget(data = trace_list, layout = layout)\n",
    "\n",
    "def update_fig(change):\n",
    "    aux_df = input_df[input_df[\"Coast\"].isin(change[\"new\"])]\n",
    "    with fig.batch_update():\n",
    "        for trace, vendor in zip(fig.data, [x for x in input_df[\"Manufacturer\"].unique()]):\n",
    "            trace.x = aux_df[aux_df[\"Manufacturer\"] == vendor][\"System Size (kW)\"]\n",
    "            trace.y = aux_df[aux_df[\"Manufacturer\"] == vendor][\"Adjusted Material $/W\"]\n",
    "\n",
    "drop = w.Dropdown(options =[\n",
    "    (\"All\", [\"West\", \"East\"]),\n",
    "    (\"West\", [\"West\"]),\n",
    "    (\"East\", [\"East\"]),\n",
    "])\n",
    "\n",
    "drop.observe(update_fig, names = \"value\")\n",
    "display(w.VBox([drop, fig]))"
   ]
  },
  {
   "cell_type": "code",
   "execution_count": null,
   "metadata": {},
   "outputs": [],
   "source": []
  }
 ],
 "metadata": {
  "kernelspec": {
   "display_name": "Python 3",
   "language": "python",
   "name": "python3"
  },
  "language_info": {
   "codemirror_mode": {
    "name": "ipython",
    "version": 3
   },
   "file_extension": ".py",
   "mimetype": "text/x-python",
   "name": "python",
   "nbconvert_exporter": "python",
   "pygments_lexer": "ipython3",
   "version": "3.7.6"
  }
 },
 "nbformat": 4,
 "nbformat_minor": 2
}
