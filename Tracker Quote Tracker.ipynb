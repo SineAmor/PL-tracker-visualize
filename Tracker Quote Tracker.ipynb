{
 "cells": [
  {
   "cell_type": "code",
   "execution_count": 53,
   "metadata": {},
   "outputs": [
    {
     "name": "stdout",
     "output_type": "stream",
     "text": [
      "0      4200.00\n",
      "1      2979.20\n",
      "2      4200.00\n",
      "3       933.66\n",
      "4      2324.84\n",
      "5      4368.10\n",
      "6      3194.10\n",
      "7      3201.12\n",
      "8      3201.12\n",
      "9      3204.24\n",
      "10     1005.66\n",
      "13     1774.50\n",
      "14     8431.92\n",
      "15     7161.00\n",
      "17     6060.00\n",
      "18     6931.17\n",
      "21     1950.78\n",
      "22      974.16\n",
      "23    19451.00\n",
      "26      978.75\n",
      "27    17064.74\n",
      "29     8567.10\n",
      "30     2298.90\n",
      "31    11845.26\n",
      "32     9996.00\n",
      "33     1304.29\n",
      "34    14979.22\n",
      "35      999.60\n",
      "36     6999.85\n",
      "37     6931.17\n",
      "38     6999.85\n",
      "39     2037.00\n",
      "Name: System Size (kW), dtype: float64\n",
      "11    1021.2\n",
      "Name: System Size (kW), dtype: float64\n",
      "12     999.00\n",
      "50    7016.76\n",
      "53    6999.85\n",
      "Name: System Size (kW), dtype: float64\n",
      "16     6060.00\n",
      "24    19451.00\n",
      "48    14989.34\n",
      "Name: System Size (kW), dtype: float64\n",
      "19      974.16\n",
      "20     1972.10\n",
      "40     6942.78\n",
      "41    14971.36\n",
      "42     4492.32\n",
      "43     9948.96\n",
      "44      952.56\n",
      "45     7022.99\n",
      "46     6994.07\n",
      "47     2037.00\n",
      "Name: System Size (kW), dtype: float64\n",
      "25    19451.0\n",
      "49     6966.0\n",
      "52     6966.0\n",
      "Name: System Size (kW), dtype: float64\n",
      "28    6473.52\n",
      "Name: System Size (kW), dtype: float64\n",
      "51    6980.72\n",
      "54    6980.72\n",
      "Name: System Size (kW), dtype: float64\n",
      "55    4492.32\n",
      "Name: System Size (kW), dtype: float64\n",
      "[[['02-26-2021']]]\n"
     ]
    },
    {
     "data": {
      "application/vnd.plotly.v1+json": {
       "config": {
        "plotlyServerURL": "https://plot.ly"
       },
       "data": [
        {
         "customdata": [
          [
           "12-28-2018",
           "Sealed Air Madera"
          ],
          [
           "12-09-2019",
           "Forefront Burch"
          ],
          [
           "11-29-2018",
           "Sealed Air Madera"
          ],
          [
           "11-21-2019",
           "Forefront Morris"
          ],
          [
           "11-21-2019",
           "Forefront Unitas"
          ],
          [
           "11-21-2019",
           "Forefront Foxhall"
          ],
          [
           "11-14-2019",
           "Forefront PR97"
          ],
          [
           "11-14-2019",
           "Forefront GA25"
          ],
          [
           "11-14-2019",
           "Forefront GA29"
          ],
          [
           "11-14-2019",
           "Forefront PR24"
          ],
          [
           "11-13-2018",
           "Sysco"
          ],
          [
           "09-13-2019",
           "Forefront - Oxford, ME"
          ],
          [
           "08-24-2020",
           "Leprino - Lemoore, CA"
          ],
          [
           "07-30-2020",
           "Berry Petroleum"
          ],
          [
           "07-17-2020",
           "Nautilus - Norwich, NY"
          ],
          [
           "07-15-2020",
           "Nautilus Quarry - North Berwick, ME"
          ],
          [
           "07-14-2020",
           "SRE - Upperco, MD"
          ],
          [
           "07-10-2020",
           "SRE - Brandywine, MD"
          ],
          [
           "07-07-2020",
           "AES Geer Rd - Hudson Falls, NY"
          ],
          [
           "04-13-2020",
           "Cargill - Fresno, CA"
          ],
          [
           "04-12-2019",
           "Kraft Heinz"
          ],
          [
           "03-26-2020",
           "Nautilus Borrego - 2668 Redman, NY"
          ],
          [
           "01-29-2019",
           "Albertsons/Safeway Tracey CA"
          ],
          [
           "01-22-2019",
           "Vitro Glass"
          ],
          [
           "01-20-2021",
           "(A) Goodman - Waller, TX"
          ],
          [
           "01-17-2019",
           "Lockheed Martin CO"
          ],
          [
           "01-05-2021",
           "Novis - Union Springs, NY"
          ],
          [
           "01-20-2021",
           "(B) Goodman - Waller, TX"
          ],
          [
           "03-31-2021",
           "Nautilus Quarry - North Berwick, ME"
          ],
          [
           "07-15-2020",
           "Nautilus Crooked River - Naples, ME"
          ],
          [
           "04-20-2021",
           "Nautilus Crooked River - Naples, ME"
          ],
          [
           "07-16-2021",
           "TKI - Hanford, CA"
          ]
         ],
         "hovertemplate": "<b> %{customdata[1]} </b><br>%{customdata[0]}<br><br>%{x:.2f} kW<br>$%{y:.3f} / W",
         "mode": "markers",
         "name": "ATI",
         "type": "scatter",
         "x": [
          4200,
          2979.2,
          4200,
          933.66,
          2324.84,
          4368.1,
          3194.1,
          3201.12,
          3201.12,
          3204.24,
          1005.66,
          1774.5,
          8431.92,
          7161,
          6060,
          6931.17,
          1950.78,
          974.16,
          19451,
          978.75,
          17064.74,
          8567.1,
          2298.9,
          11845.26,
          9996,
          1304.29,
          14979.22,
          999.6,
          6999.85,
          6931.17,
          6999.85,
          2037
         ],
         "y": [
          0.311035939,
          0.387314517,
          0.322489497,
          0.364984866,
          0.430801009,
          0.395913891,
          0.38778449,
          0.344227099,
          0.34517526,
          0.36541771799999995,
          0.287961675,
          0.478292294,
          0.29381995899999996,
          0.34861372700000004,
          0.4386447,
          0.40890947200000005,
          0.411497958,
          0.377253609,
          0.374477891,
          0.397908649,
          0.282198328,
          0.426788399,
          0.276404036,
          0.273879677,
          0.250931952,
          0.299501765,
          0.261259726,
          0.255829275,
          0.332115604,
          0.431535997,
          0.279485324,
          0.167322042
         ]
        },
        {
         "customdata": [
          [
           "09-28-2018",
           "Sysco"
          ]
         ],
         "hovertemplate": "<b> %{customdata[1]} </b><br>%{customdata[0]}<br><br>%{x:.2f} kW<br>$%{y:.3f} / W",
         "mode": "markers",
         "name": "Sun Action Trackers",
         "type": "scatter",
         "x": [
          1021.2
         ],
         "y": [
          0.234330287
         ]
        },
        {
         "customdata": [
          [
           "09-18-2018",
           "Sysco"
          ],
          [
           "04-15-2021",
           "Nautilus Crooked River - Naples, ME"
          ],
          [
           "04-15-2021",
           "Nautilus Quarry - North Berwick, ME"
          ]
         ],
         "hovertemplate": "<b> %{customdata[1]} </b><br>%{customdata[0]}<br><br>%{x:.2f} kW<br>$%{y:.3f} / W",
         "mode": "markers",
         "name": "Nextracker",
         "type": "scatter",
         "x": [
          999,
          7016.76,
          6999.85
         ],
         "y": [
          0.259113967,
          0.215753313,
          0.214508709
         ]
        },
        {
         "customdata": [
          [
           "07-17-2020",
           "Nautilus - Norwich, NY"
          ],
          [
           "07-01-2020",
           "AES Geer Rd - Hudson Falls, NY"
          ],
          [
           "02-18-2021",
           "Novis - Union Springs, NY"
          ]
         ],
         "hovertemplate": "<b> %{customdata[1]} </b><br>%{customdata[0]}<br><br>%{x:.2f} kW<br>$%{y:.3f} / W",
         "mode": "markers",
         "name": "GameChange Solar",
         "type": "scatter",
         "x": [
          6060,
          19451,
          14989.34
         ],
         "y": [
          0.253174921,
          0.278626668,
          0.21154702399999997
         ]
        },
        {
         "customdata": [
          [
           "07-14-2020",
           "SRE - Brandywine, MD"
          ],
          [
           "07-14-2020",
           "SRE - Upperco, MD"
          ],
          [
           "09-23-2020",
           "Nautilus Quarry - North Berwick, ME"
          ],
          [
           "01-13-2021",
           "Novis - Union Springs, NY"
          ],
          [
           "02-19-2021",
           "Hershey - Hershey, PA"
          ],
          [
           "01-19-2021",
           "(A) Goodman - Waller, TX"
          ],
          [
           "01-19-2021",
           "(B) Goodman - Waller, TX"
          ],
          [
           "04-23-2021",
           "Nautilus Crooked River - Naples, ME"
          ],
          [
           "04-23-2021",
           "Nautilus Quarry - North Berwick, ME"
          ],
          [
           "07-16-2021",
           "TKI - Hanford, CA"
          ]
         ],
         "hovertemplate": "<b> %{customdata[1]} </b><br>%{customdata[0]}<br><br>%{x:.2f} kW<br>$%{y:.3f} / W",
         "mode": "markers",
         "name": "SolarFlexRack",
         "type": "scatter",
         "x": [
          974.16,
          1972.1,
          6942.78,
          14971.36,
          4492.32,
          9948.96,
          952.56,
          7022.99,
          6994.07,
          2037
         ],
         "y": [
          0.33817054399999996,
          0.30135046,
          0.32552977,
          0.229405245,
          0.18595533600000003,
          0.20295259300000001,
          0.23685023,
          0.277866609,
          0.245130908,
          0.19315709399999997
         ]
        },
        {
         "customdata": [
          [
           "06-30-2020",
           "AES Geer Rd - Hudson Falls, NY"
          ],
          [
           "07-16-2020",
           "Nautilus Crooked River - Naples, ME"
          ],
          [
           "07-16-2020",
           "Nautilus Quarry - North Berwick, ME"
          ]
         ],
         "hovertemplate": "<b> %{customdata[1]} </b><br>%{customdata[0]}<br><br>%{x:.2f} kW<br>$%{y:.3f} / W",
         "mode": "markers",
         "name": "Soltec",
         "type": "scatter",
         "x": [
          19451,
          6966,
          6966
         ],
         "y": [
          0.20739728,
          0.239991882,
          0.231119619
         ]
        },
        {
         "customdata": [
          [
           "04-01-2020",
           "Nautilus Borrego - 12963 Main Rd"
          ]
         ],
         "hovertemplate": "<b> %{customdata[1]} </b><br>%{customdata[0]}<br><br>%{x:.2f} kW<br>$%{y:.3f} / W",
         "mode": "markers",
         "name": "Terrasmart",
         "type": "scatter",
         "x": [
          6473.52
         ],
         "y": [
          0.40312720700000004
         ]
        },
        {
         "customdata": [
          [
           "04-13-2021",
           "Nautilus Crooked River - Naples, ME"
          ],
          [
           "04-13-2021",
           "Nautilus Quarry - North Berwick, ME"
          ]
         ],
         "hovertemplate": "<b> %{customdata[1]} </b><br>%{customdata[0]}<br><br>%{x:.2f} kW<br>$%{y:.3f} / W",
         "mode": "markers",
         "name": "Axsus",
         "type": "scatter",
         "x": [
          6980.72,
          6980.72
         ],
         "y": [
          0.333772144,
          0.334753755
         ]
        },
        {
         "customdata": [
          [
           "02-26-2021",
           "Hershey - Hershey, PA"
          ]
         ],
         "hovertemplate": "<b> %{customdata[1]} </b><br>%{customdata[0]}<br><br>%{x:.2f} kW<br>$%{y:.3f} / W",
         "mode": "markers",
         "name": "OMCO",
         "type": "scatter",
         "x": [
          4492.32
         ],
         "y": [
          0.220294472
         ]
        }
       ],
       "layout": {
        "template": {
         "data": {
          "bar": [
           {
            "error_x": {
             "color": "#2a3f5f"
            },
            "error_y": {
             "color": "#2a3f5f"
            },
            "marker": {
             "line": {
              "color": "#E5ECF6",
              "width": 0.5
             },
             "pattern": {
              "fillmode": "overlay",
              "size": 10,
              "solidity": 0.2
             }
            },
            "type": "bar"
           }
          ],
          "barpolar": [
           {
            "marker": {
             "line": {
              "color": "#E5ECF6",
              "width": 0.5
             },
             "pattern": {
              "fillmode": "overlay",
              "size": 10,
              "solidity": 0.2
             }
            },
            "type": "barpolar"
           }
          ],
          "carpet": [
           {
            "aaxis": {
             "endlinecolor": "#2a3f5f",
             "gridcolor": "white",
             "linecolor": "white",
             "minorgridcolor": "white",
             "startlinecolor": "#2a3f5f"
            },
            "baxis": {
             "endlinecolor": "#2a3f5f",
             "gridcolor": "white",
             "linecolor": "white",
             "minorgridcolor": "white",
             "startlinecolor": "#2a3f5f"
            },
            "type": "carpet"
           }
          ],
          "choropleth": [
           {
            "colorbar": {
             "outlinewidth": 0,
             "ticks": ""
            },
            "type": "choropleth"
           }
          ],
          "contour": [
           {
            "colorbar": {
             "outlinewidth": 0,
             "ticks": ""
            },
            "colorscale": [
             [
              0,
              "#0d0887"
             ],
             [
              0.1111111111111111,
              "#46039f"
             ],
             [
              0.2222222222222222,
              "#7201a8"
             ],
             [
              0.3333333333333333,
              "#9c179e"
             ],
             [
              0.4444444444444444,
              "#bd3786"
             ],
             [
              0.5555555555555556,
              "#d8576b"
             ],
             [
              0.6666666666666666,
              "#ed7953"
             ],
             [
              0.7777777777777778,
              "#fb9f3a"
             ],
             [
              0.8888888888888888,
              "#fdca26"
             ],
             [
              1,
              "#f0f921"
             ]
            ],
            "type": "contour"
           }
          ],
          "contourcarpet": [
           {
            "colorbar": {
             "outlinewidth": 0,
             "ticks": ""
            },
            "type": "contourcarpet"
           }
          ],
          "heatmap": [
           {
            "colorbar": {
             "outlinewidth": 0,
             "ticks": ""
            },
            "colorscale": [
             [
              0,
              "#0d0887"
             ],
             [
              0.1111111111111111,
              "#46039f"
             ],
             [
              0.2222222222222222,
              "#7201a8"
             ],
             [
              0.3333333333333333,
              "#9c179e"
             ],
             [
              0.4444444444444444,
              "#bd3786"
             ],
             [
              0.5555555555555556,
              "#d8576b"
             ],
             [
              0.6666666666666666,
              "#ed7953"
             ],
             [
              0.7777777777777778,
              "#fb9f3a"
             ],
             [
              0.8888888888888888,
              "#fdca26"
             ],
             [
              1,
              "#f0f921"
             ]
            ],
            "type": "heatmap"
           }
          ],
          "heatmapgl": [
           {
            "colorbar": {
             "outlinewidth": 0,
             "ticks": ""
            },
            "colorscale": [
             [
              0,
              "#0d0887"
             ],
             [
              0.1111111111111111,
              "#46039f"
             ],
             [
              0.2222222222222222,
              "#7201a8"
             ],
             [
              0.3333333333333333,
              "#9c179e"
             ],
             [
              0.4444444444444444,
              "#bd3786"
             ],
             [
              0.5555555555555556,
              "#d8576b"
             ],
             [
              0.6666666666666666,
              "#ed7953"
             ],
             [
              0.7777777777777778,
              "#fb9f3a"
             ],
             [
              0.8888888888888888,
              "#fdca26"
             ],
             [
              1,
              "#f0f921"
             ]
            ],
            "type": "heatmapgl"
           }
          ],
          "histogram": [
           {
            "marker": {
             "pattern": {
              "fillmode": "overlay",
              "size": 10,
              "solidity": 0.2
             }
            },
            "type": "histogram"
           }
          ],
          "histogram2d": [
           {
            "colorbar": {
             "outlinewidth": 0,
             "ticks": ""
            },
            "colorscale": [
             [
              0,
              "#0d0887"
             ],
             [
              0.1111111111111111,
              "#46039f"
             ],
             [
              0.2222222222222222,
              "#7201a8"
             ],
             [
              0.3333333333333333,
              "#9c179e"
             ],
             [
              0.4444444444444444,
              "#bd3786"
             ],
             [
              0.5555555555555556,
              "#d8576b"
             ],
             [
              0.6666666666666666,
              "#ed7953"
             ],
             [
              0.7777777777777778,
              "#fb9f3a"
             ],
             [
              0.8888888888888888,
              "#fdca26"
             ],
             [
              1,
              "#f0f921"
             ]
            ],
            "type": "histogram2d"
           }
          ],
          "histogram2dcontour": [
           {
            "colorbar": {
             "outlinewidth": 0,
             "ticks": ""
            },
            "colorscale": [
             [
              0,
              "#0d0887"
             ],
             [
              0.1111111111111111,
              "#46039f"
             ],
             [
              0.2222222222222222,
              "#7201a8"
             ],
             [
              0.3333333333333333,
              "#9c179e"
             ],
             [
              0.4444444444444444,
              "#bd3786"
             ],
             [
              0.5555555555555556,
              "#d8576b"
             ],
             [
              0.6666666666666666,
              "#ed7953"
             ],
             [
              0.7777777777777778,
              "#fb9f3a"
             ],
             [
              0.8888888888888888,
              "#fdca26"
             ],
             [
              1,
              "#f0f921"
             ]
            ],
            "type": "histogram2dcontour"
           }
          ],
          "mesh3d": [
           {
            "colorbar": {
             "outlinewidth": 0,
             "ticks": ""
            },
            "type": "mesh3d"
           }
          ],
          "parcoords": [
           {
            "line": {
             "colorbar": {
              "outlinewidth": 0,
              "ticks": ""
             }
            },
            "type": "parcoords"
           }
          ],
          "pie": [
           {
            "automargin": true,
            "type": "pie"
           }
          ],
          "scatter": [
           {
            "marker": {
             "colorbar": {
              "outlinewidth": 0,
              "ticks": ""
             }
            },
            "type": "scatter"
           }
          ],
          "scatter3d": [
           {
            "line": {
             "colorbar": {
              "outlinewidth": 0,
              "ticks": ""
             }
            },
            "marker": {
             "colorbar": {
              "outlinewidth": 0,
              "ticks": ""
             }
            },
            "type": "scatter3d"
           }
          ],
          "scattercarpet": [
           {
            "marker": {
             "colorbar": {
              "outlinewidth": 0,
              "ticks": ""
             }
            },
            "type": "scattercarpet"
           }
          ],
          "scattergeo": [
           {
            "marker": {
             "colorbar": {
              "outlinewidth": 0,
              "ticks": ""
             }
            },
            "type": "scattergeo"
           }
          ],
          "scattergl": [
           {
            "marker": {
             "colorbar": {
              "outlinewidth": 0,
              "ticks": ""
             }
            },
            "type": "scattergl"
           }
          ],
          "scattermapbox": [
           {
            "marker": {
             "colorbar": {
              "outlinewidth": 0,
              "ticks": ""
             }
            },
            "type": "scattermapbox"
           }
          ],
          "scatterpolar": [
           {
            "marker": {
             "colorbar": {
              "outlinewidth": 0,
              "ticks": ""
             }
            },
            "type": "scatterpolar"
           }
          ],
          "scatterpolargl": [
           {
            "marker": {
             "colorbar": {
              "outlinewidth": 0,
              "ticks": ""
             }
            },
            "type": "scatterpolargl"
           }
          ],
          "scatterternary": [
           {
            "marker": {
             "colorbar": {
              "outlinewidth": 0,
              "ticks": ""
             }
            },
            "type": "scatterternary"
           }
          ],
          "surface": [
           {
            "colorbar": {
             "outlinewidth": 0,
             "ticks": ""
            },
            "colorscale": [
             [
              0,
              "#0d0887"
             ],
             [
              0.1111111111111111,
              "#46039f"
             ],
             [
              0.2222222222222222,
              "#7201a8"
             ],
             [
              0.3333333333333333,
              "#9c179e"
             ],
             [
              0.4444444444444444,
              "#bd3786"
             ],
             [
              0.5555555555555556,
              "#d8576b"
             ],
             [
              0.6666666666666666,
              "#ed7953"
             ],
             [
              0.7777777777777778,
              "#fb9f3a"
             ],
             [
              0.8888888888888888,
              "#fdca26"
             ],
             [
              1,
              "#f0f921"
             ]
            ],
            "type": "surface"
           }
          ],
          "table": [
           {
            "cells": {
             "fill": {
              "color": "#EBF0F8"
             },
             "line": {
              "color": "white"
             }
            },
            "header": {
             "fill": {
              "color": "#C8D4E3"
             },
             "line": {
              "color": "white"
             }
            },
            "type": "table"
           }
          ]
         },
         "layout": {
          "annotationdefaults": {
           "arrowcolor": "#2a3f5f",
           "arrowhead": 0,
           "arrowwidth": 1
          },
          "autotypenumbers": "strict",
          "coloraxis": {
           "colorbar": {
            "outlinewidth": 0,
            "ticks": ""
           }
          },
          "colorscale": {
           "diverging": [
            [
             0,
             "#8e0152"
            ],
            [
             0.1,
             "#c51b7d"
            ],
            [
             0.2,
             "#de77ae"
            ],
            [
             0.3,
             "#f1b6da"
            ],
            [
             0.4,
             "#fde0ef"
            ],
            [
             0.5,
             "#f7f7f7"
            ],
            [
             0.6,
             "#e6f5d0"
            ],
            [
             0.7,
             "#b8e186"
            ],
            [
             0.8,
             "#7fbc41"
            ],
            [
             0.9,
             "#4d9221"
            ],
            [
             1,
             "#276419"
            ]
           ],
           "sequential": [
            [
             0,
             "#0d0887"
            ],
            [
             0.1111111111111111,
             "#46039f"
            ],
            [
             0.2222222222222222,
             "#7201a8"
            ],
            [
             0.3333333333333333,
             "#9c179e"
            ],
            [
             0.4444444444444444,
             "#bd3786"
            ],
            [
             0.5555555555555556,
             "#d8576b"
            ],
            [
             0.6666666666666666,
             "#ed7953"
            ],
            [
             0.7777777777777778,
             "#fb9f3a"
            ],
            [
             0.8888888888888888,
             "#fdca26"
            ],
            [
             1,
             "#f0f921"
            ]
           ],
           "sequentialminus": [
            [
             0,
             "#0d0887"
            ],
            [
             0.1111111111111111,
             "#46039f"
            ],
            [
             0.2222222222222222,
             "#7201a8"
            ],
            [
             0.3333333333333333,
             "#9c179e"
            ],
            [
             0.4444444444444444,
             "#bd3786"
            ],
            [
             0.5555555555555556,
             "#d8576b"
            ],
            [
             0.6666666666666666,
             "#ed7953"
            ],
            [
             0.7777777777777778,
             "#fb9f3a"
            ],
            [
             0.8888888888888888,
             "#fdca26"
            ],
            [
             1,
             "#f0f921"
            ]
           ]
          },
          "colorway": [
           "#636efa",
           "#EF553B",
           "#00cc96",
           "#ab63fa",
           "#FFA15A",
           "#19d3f3",
           "#FF6692",
           "#B6E880",
           "#FF97FF",
           "#FECB52"
          ],
          "font": {
           "color": "#2a3f5f"
          },
          "geo": {
           "bgcolor": "white",
           "lakecolor": "white",
           "landcolor": "#E5ECF6",
           "showlakes": true,
           "showland": true,
           "subunitcolor": "white"
          },
          "hoverlabel": {
           "align": "left"
          },
          "hovermode": "closest",
          "mapbox": {
           "style": "light"
          },
          "paper_bgcolor": "white",
          "plot_bgcolor": "#E5ECF6",
          "polar": {
           "angularaxis": {
            "gridcolor": "white",
            "linecolor": "white",
            "ticks": ""
           },
           "bgcolor": "#E5ECF6",
           "radialaxis": {
            "gridcolor": "white",
            "linecolor": "white",
            "ticks": ""
           }
          },
          "scene": {
           "xaxis": {
            "backgroundcolor": "#E5ECF6",
            "gridcolor": "white",
            "gridwidth": 2,
            "linecolor": "white",
            "showbackground": true,
            "ticks": "",
            "zerolinecolor": "white"
           },
           "yaxis": {
            "backgroundcolor": "#E5ECF6",
            "gridcolor": "white",
            "gridwidth": 2,
            "linecolor": "white",
            "showbackground": true,
            "ticks": "",
            "zerolinecolor": "white"
           },
           "zaxis": {
            "backgroundcolor": "#E5ECF6",
            "gridcolor": "white",
            "gridwidth": 2,
            "linecolor": "white",
            "showbackground": true,
            "ticks": "",
            "zerolinecolor": "white"
           }
          },
          "shapedefaults": {
           "line": {
            "color": "#2a3f5f"
           }
          },
          "ternary": {
           "aaxis": {
            "gridcolor": "white",
            "linecolor": "white",
            "ticks": ""
           },
           "baxis": {
            "gridcolor": "white",
            "linecolor": "white",
            "ticks": ""
           },
           "bgcolor": "#E5ECF6",
           "caxis": {
            "gridcolor": "white",
            "linecolor": "white",
            "ticks": ""
           }
          },
          "title": {
           "x": 0.05
          },
          "xaxis": {
           "automargin": true,
           "gridcolor": "white",
           "linecolor": "white",
           "ticks": "",
           "title": {
            "standoff": 15
           },
           "zerolinecolor": "white",
           "zerolinewidth": 2
          },
          "yaxis": {
           "automargin": true,
           "gridcolor": "white",
           "linecolor": "white",
           "ticks": "",
           "title": {
            "standoff": 15
           },
           "zerolinecolor": "white",
           "zerolinewidth": 2
          }
         }
        },
        "title": {
         "text": "Material $/W vs System Size (kW-DC)",
         "x": 0.5
        },
        "xaxis": {
         "tickformat": "digits",
         "title": {
          "text": "System kW-DC"
         }
        },
        "yaxis": {
         "title": {
          "text": "Racking Material $/W"
         }
        }
       }
      },
      "text/html": [
       "<div>                            <div id=\"96172dd6-9923-4aa5-a959-f30726684547\" class=\"plotly-graph-div\" style=\"height:525px; width:100%;\"></div>            <script type=\"text/javascript\">                require([\"plotly\"], function(Plotly) {                    window.PLOTLYENV=window.PLOTLYENV || {};                                    if (document.getElementById(\"96172dd6-9923-4aa5-a959-f30726684547\")) {                    Plotly.newPlot(                        \"96172dd6-9923-4aa5-a959-f30726684547\",                        [{\"customdata\":[[\"12-28-2018\",\"Sealed Air Madera\"],[\"12-09-2019\",\"Forefront Burch\"],[\"11-29-2018\",\"Sealed Air Madera\"],[\"11-21-2019\",\"Forefront Morris\"],[\"11-21-2019\",\"Forefront Unitas\"],[\"11-21-2019\",\"Forefront Foxhall\"],[\"11-14-2019\",\"Forefront PR97\"],[\"11-14-2019\",\"Forefront GA25\"],[\"11-14-2019\",\"Forefront GA29\"],[\"11-14-2019\",\"Forefront PR24\"],[\"11-13-2018\",\"Sysco\"],[\"09-13-2019\",\"Forefront - Oxford, ME\"],[\"08-24-2020\",\"Leprino - Lemoore, CA\"],[\"07-30-2020\",\"Berry Petroleum\"],[\"07-17-2020\",\"Nautilus - Norwich, NY\"],[\"07-15-2020\",\"Nautilus Quarry - North Berwick, ME\"],[\"07-14-2020\",\"SRE - Upperco, MD\"],[\"07-10-2020\",\"SRE - Brandywine, MD\"],[\"07-07-2020\",\"AES Geer Rd - Hudson Falls, NY\"],[\"04-13-2020\",\"Cargill - Fresno, CA\"],[\"04-12-2019\",\"Kraft Heinz\"],[\"03-26-2020\",\"Nautilus Borrego - 2668 Redman, NY\"],[\"01-29-2019\",\"Albertsons/Safeway Tracey CA\"],[\"01-22-2019\",\"Vitro Glass\"],[\"01-20-2021\",\"(A) Goodman - Waller, TX\"],[\"01-17-2019\",\"Lockheed Martin CO\"],[\"01-05-2021\",\"Novis - Union Springs, NY\"],[\"01-20-2021\",\"(B) Goodman - Waller, TX\"],[\"03-31-2021\",\"Nautilus Quarry - North Berwick, ME\"],[\"07-15-2020\",\"Nautilus Crooked River - Naples, ME\"],[\"04-20-2021\",\"Nautilus Crooked River - Naples, ME\"],[\"07-16-2021\",\"TKI - Hanford, CA\"]],\"hovertemplate\":\"<b> %{customdata[1]} </b><br>%{customdata[0]}<br><br>%{x:.2f} kW<br>$%{y:.3f} / W\",\"mode\":\"markers\",\"name\":\"ATI\",\"type\":\"scatter\",\"x\":[4200.0,2979.2,4200.0,933.66,2324.84,4368.1,3194.1,3201.12,3201.12,3204.24,1005.66,1774.5,8431.92,7161.0,6060.0,6931.17,1950.78,974.16,19451.0,978.75,17064.74,8567.1,2298.9,11845.26,9996.0,1304.29,14979.22,999.6,6999.85,6931.17,6999.85,2037.0],\"y\":[0.311035939,0.387314517,0.322489497,0.364984866,0.430801009,0.395913891,0.38778449,0.344227099,0.34517526,0.36541771799999995,0.287961675,0.478292294,0.29381995899999996,0.34861372700000004,0.4386447,0.40890947200000005,0.411497958,0.377253609,0.374477891,0.397908649,0.282198328,0.426788399,0.276404036,0.273879677,0.250931952,0.299501765,0.261259726,0.255829275,0.332115604,0.431535997,0.279485324,0.167322042]},{\"customdata\":[[\"09-28-2018\",\"Sysco\"]],\"hovertemplate\":\"<b> %{customdata[1]} </b><br>%{customdata[0]}<br><br>%{x:.2f} kW<br>$%{y:.3f} / W\",\"mode\":\"markers\",\"name\":\"Sun Action Trackers\",\"type\":\"scatter\",\"x\":[1021.2],\"y\":[0.234330287]},{\"customdata\":[[\"09-18-2018\",\"Sysco\"],[\"04-15-2021\",\"Nautilus Crooked River - Naples, ME\"],[\"04-15-2021\",\"Nautilus Quarry - North Berwick, ME\"]],\"hovertemplate\":\"<b> %{customdata[1]} </b><br>%{customdata[0]}<br><br>%{x:.2f} kW<br>$%{y:.3f} / W\",\"mode\":\"markers\",\"name\":\"Nextracker\",\"type\":\"scatter\",\"x\":[999.0,7016.76,6999.85],\"y\":[0.259113967,0.215753313,0.214508709]},{\"customdata\":[[\"07-17-2020\",\"Nautilus - Norwich, NY\"],[\"07-01-2020\",\"AES Geer Rd - Hudson Falls, NY\"],[\"02-18-2021\",\"Novis - Union Springs, NY\"]],\"hovertemplate\":\"<b> %{customdata[1]} </b><br>%{customdata[0]}<br><br>%{x:.2f} kW<br>$%{y:.3f} / W\",\"mode\":\"markers\",\"name\":\"GameChange Solar\",\"type\":\"scatter\",\"x\":[6060.0,19451.0,14989.34],\"y\":[0.253174921,0.278626668,0.21154702399999997]},{\"customdata\":[[\"07-14-2020\",\"SRE - Brandywine, MD\"],[\"07-14-2020\",\"SRE - Upperco, MD\"],[\"09-23-2020\",\"Nautilus Quarry - North Berwick, ME\"],[\"01-13-2021\",\"Novis - Union Springs, NY\"],[\"02-19-2021\",\"Hershey - Hershey, PA\"],[\"01-19-2021\",\"(A) Goodman - Waller, TX\"],[\"01-19-2021\",\"(B) Goodman - Waller, TX\"],[\"04-23-2021\",\"Nautilus Crooked River - Naples, ME\"],[\"04-23-2021\",\"Nautilus Quarry - North Berwick, ME\"],[\"07-16-2021\",\"TKI - Hanford, CA\"]],\"hovertemplate\":\"<b> %{customdata[1]} </b><br>%{customdata[0]}<br><br>%{x:.2f} kW<br>$%{y:.3f} / W\",\"mode\":\"markers\",\"name\":\"SolarFlexRack\",\"type\":\"scatter\",\"x\":[974.16,1972.1,6942.78,14971.36,4492.32,9948.96,952.56,7022.99,6994.07,2037.0],\"y\":[0.33817054399999996,0.30135046,0.32552977,0.229405245,0.18595533600000003,0.20295259300000001,0.23685023,0.277866609,0.245130908,0.19315709399999997]},{\"customdata\":[[\"06-30-2020\",\"AES Geer Rd - Hudson Falls, NY\"],[\"07-16-2020\",\"Nautilus Crooked River - Naples, ME\"],[\"07-16-2020\",\"Nautilus Quarry - North Berwick, ME\"]],\"hovertemplate\":\"<b> %{customdata[1]} </b><br>%{customdata[0]}<br><br>%{x:.2f} kW<br>$%{y:.3f} / W\",\"mode\":\"markers\",\"name\":\"Soltec\",\"type\":\"scatter\",\"x\":[19451.0,6966.0,6966.0],\"y\":[0.20739728,0.239991882,0.231119619]},{\"customdata\":[[\"04-01-2020\",\"Nautilus Borrego - 12963 Main Rd\"]],\"hovertemplate\":\"<b> %{customdata[1]} </b><br>%{customdata[0]}<br><br>%{x:.2f} kW<br>$%{y:.3f} / W\",\"mode\":\"markers\",\"name\":\"Terrasmart\",\"type\":\"scatter\",\"x\":[6473.52],\"y\":[0.40312720700000004]},{\"customdata\":[[\"04-13-2021\",\"Nautilus Crooked River - Naples, ME\"],[\"04-13-2021\",\"Nautilus Quarry - North Berwick, ME\"]],\"hovertemplate\":\"<b> %{customdata[1]} </b><br>%{customdata[0]}<br><br>%{x:.2f} kW<br>$%{y:.3f} / W\",\"mode\":\"markers\",\"name\":\"Axsus\",\"type\":\"scatter\",\"x\":[6980.72,6980.72],\"y\":[0.333772144,0.334753755]},{\"customdata\":[[\"02-26-2021\",\"Hershey - Hershey, PA\"]],\"hovertemplate\":\"<b> %{customdata[1]} </b><br>%{customdata[0]}<br><br>%{x:.2f} kW<br>$%{y:.3f} / W\",\"mode\":\"markers\",\"name\":\"OMCO\",\"type\":\"scatter\",\"x\":[4492.32],\"y\":[0.220294472]}],                        {\"template\":{\"data\":{\"bar\":[{\"error_x\":{\"color\":\"#2a3f5f\"},\"error_y\":{\"color\":\"#2a3f5f\"},\"marker\":{\"line\":{\"color\":\"#E5ECF6\",\"width\":0.5},\"pattern\":{\"fillmode\":\"overlay\",\"size\":10,\"solidity\":0.2}},\"type\":\"bar\"}],\"barpolar\":[{\"marker\":{\"line\":{\"color\":\"#E5ECF6\",\"width\":0.5},\"pattern\":{\"fillmode\":\"overlay\",\"size\":10,\"solidity\":0.2}},\"type\":\"barpolar\"}],\"carpet\":[{\"aaxis\":{\"endlinecolor\":\"#2a3f5f\",\"gridcolor\":\"white\",\"linecolor\":\"white\",\"minorgridcolor\":\"white\",\"startlinecolor\":\"#2a3f5f\"},\"baxis\":{\"endlinecolor\":\"#2a3f5f\",\"gridcolor\":\"white\",\"linecolor\":\"white\",\"minorgridcolor\":\"white\",\"startlinecolor\":\"#2a3f5f\"},\"type\":\"carpet\"}],\"choropleth\":[{\"colorbar\":{\"outlinewidth\":0,\"ticks\":\"\"},\"type\":\"choropleth\"}],\"contour\":[{\"colorbar\":{\"outlinewidth\":0,\"ticks\":\"\"},\"colorscale\":[[0.0,\"#0d0887\"],[0.1111111111111111,\"#46039f\"],[0.2222222222222222,\"#7201a8\"],[0.3333333333333333,\"#9c179e\"],[0.4444444444444444,\"#bd3786\"],[0.5555555555555556,\"#d8576b\"],[0.6666666666666666,\"#ed7953\"],[0.7777777777777778,\"#fb9f3a\"],[0.8888888888888888,\"#fdca26\"],[1.0,\"#f0f921\"]],\"type\":\"contour\"}],\"contourcarpet\":[{\"colorbar\":{\"outlinewidth\":0,\"ticks\":\"\"},\"type\":\"contourcarpet\"}],\"heatmap\":[{\"colorbar\":{\"outlinewidth\":0,\"ticks\":\"\"},\"colorscale\":[[0.0,\"#0d0887\"],[0.1111111111111111,\"#46039f\"],[0.2222222222222222,\"#7201a8\"],[0.3333333333333333,\"#9c179e\"],[0.4444444444444444,\"#bd3786\"],[0.5555555555555556,\"#d8576b\"],[0.6666666666666666,\"#ed7953\"],[0.7777777777777778,\"#fb9f3a\"],[0.8888888888888888,\"#fdca26\"],[1.0,\"#f0f921\"]],\"type\":\"heatmap\"}],\"heatmapgl\":[{\"colorbar\":{\"outlinewidth\":0,\"ticks\":\"\"},\"colorscale\":[[0.0,\"#0d0887\"],[0.1111111111111111,\"#46039f\"],[0.2222222222222222,\"#7201a8\"],[0.3333333333333333,\"#9c179e\"],[0.4444444444444444,\"#bd3786\"],[0.5555555555555556,\"#d8576b\"],[0.6666666666666666,\"#ed7953\"],[0.7777777777777778,\"#fb9f3a\"],[0.8888888888888888,\"#fdca26\"],[1.0,\"#f0f921\"]],\"type\":\"heatmapgl\"}],\"histogram\":[{\"marker\":{\"pattern\":{\"fillmode\":\"overlay\",\"size\":10,\"solidity\":0.2}},\"type\":\"histogram\"}],\"histogram2d\":[{\"colorbar\":{\"outlinewidth\":0,\"ticks\":\"\"},\"colorscale\":[[0.0,\"#0d0887\"],[0.1111111111111111,\"#46039f\"],[0.2222222222222222,\"#7201a8\"],[0.3333333333333333,\"#9c179e\"],[0.4444444444444444,\"#bd3786\"],[0.5555555555555556,\"#d8576b\"],[0.6666666666666666,\"#ed7953\"],[0.7777777777777778,\"#fb9f3a\"],[0.8888888888888888,\"#fdca26\"],[1.0,\"#f0f921\"]],\"type\":\"histogram2d\"}],\"histogram2dcontour\":[{\"colorbar\":{\"outlinewidth\":0,\"ticks\":\"\"},\"colorscale\":[[0.0,\"#0d0887\"],[0.1111111111111111,\"#46039f\"],[0.2222222222222222,\"#7201a8\"],[0.3333333333333333,\"#9c179e\"],[0.4444444444444444,\"#bd3786\"],[0.5555555555555556,\"#d8576b\"],[0.6666666666666666,\"#ed7953\"],[0.7777777777777778,\"#fb9f3a\"],[0.8888888888888888,\"#fdca26\"],[1.0,\"#f0f921\"]],\"type\":\"histogram2dcontour\"}],\"mesh3d\":[{\"colorbar\":{\"outlinewidth\":0,\"ticks\":\"\"},\"type\":\"mesh3d\"}],\"parcoords\":[{\"line\":{\"colorbar\":{\"outlinewidth\":0,\"ticks\":\"\"}},\"type\":\"parcoords\"}],\"pie\":[{\"automargin\":true,\"type\":\"pie\"}],\"scatter\":[{\"marker\":{\"colorbar\":{\"outlinewidth\":0,\"ticks\":\"\"}},\"type\":\"scatter\"}],\"scatter3d\":[{\"line\":{\"colorbar\":{\"outlinewidth\":0,\"ticks\":\"\"}},\"marker\":{\"colorbar\":{\"outlinewidth\":0,\"ticks\":\"\"}},\"type\":\"scatter3d\"}],\"scattercarpet\":[{\"marker\":{\"colorbar\":{\"outlinewidth\":0,\"ticks\":\"\"}},\"type\":\"scattercarpet\"}],\"scattergeo\":[{\"marker\":{\"colorbar\":{\"outlinewidth\":0,\"ticks\":\"\"}},\"type\":\"scattergeo\"}],\"scattergl\":[{\"marker\":{\"colorbar\":{\"outlinewidth\":0,\"ticks\":\"\"}},\"type\":\"scattergl\"}],\"scattermapbox\":[{\"marker\":{\"colorbar\":{\"outlinewidth\":0,\"ticks\":\"\"}},\"type\":\"scattermapbox\"}],\"scatterpolar\":[{\"marker\":{\"colorbar\":{\"outlinewidth\":0,\"ticks\":\"\"}},\"type\":\"scatterpolar\"}],\"scatterpolargl\":[{\"marker\":{\"colorbar\":{\"outlinewidth\":0,\"ticks\":\"\"}},\"type\":\"scatterpolargl\"}],\"scatterternary\":[{\"marker\":{\"colorbar\":{\"outlinewidth\":0,\"ticks\":\"\"}},\"type\":\"scatterternary\"}],\"surface\":[{\"colorbar\":{\"outlinewidth\":0,\"ticks\":\"\"},\"colorscale\":[[0.0,\"#0d0887\"],[0.1111111111111111,\"#46039f\"],[0.2222222222222222,\"#7201a8\"],[0.3333333333333333,\"#9c179e\"],[0.4444444444444444,\"#bd3786\"],[0.5555555555555556,\"#d8576b\"],[0.6666666666666666,\"#ed7953\"],[0.7777777777777778,\"#fb9f3a\"],[0.8888888888888888,\"#fdca26\"],[1.0,\"#f0f921\"]],\"type\":\"surface\"}],\"table\":[{\"cells\":{\"fill\":{\"color\":\"#EBF0F8\"},\"line\":{\"color\":\"white\"}},\"header\":{\"fill\":{\"color\":\"#C8D4E3\"},\"line\":{\"color\":\"white\"}},\"type\":\"table\"}]},\"layout\":{\"annotationdefaults\":{\"arrowcolor\":\"#2a3f5f\",\"arrowhead\":0,\"arrowwidth\":1},\"autotypenumbers\":\"strict\",\"coloraxis\":{\"colorbar\":{\"outlinewidth\":0,\"ticks\":\"\"}},\"colorscale\":{\"diverging\":[[0,\"#8e0152\"],[0.1,\"#c51b7d\"],[0.2,\"#de77ae\"],[0.3,\"#f1b6da\"],[0.4,\"#fde0ef\"],[0.5,\"#f7f7f7\"],[0.6,\"#e6f5d0\"],[0.7,\"#b8e186\"],[0.8,\"#7fbc41\"],[0.9,\"#4d9221\"],[1,\"#276419\"]],\"sequential\":[[0.0,\"#0d0887\"],[0.1111111111111111,\"#46039f\"],[0.2222222222222222,\"#7201a8\"],[0.3333333333333333,\"#9c179e\"],[0.4444444444444444,\"#bd3786\"],[0.5555555555555556,\"#d8576b\"],[0.6666666666666666,\"#ed7953\"],[0.7777777777777778,\"#fb9f3a\"],[0.8888888888888888,\"#fdca26\"],[1.0,\"#f0f921\"]],\"sequentialminus\":[[0.0,\"#0d0887\"],[0.1111111111111111,\"#46039f\"],[0.2222222222222222,\"#7201a8\"],[0.3333333333333333,\"#9c179e\"],[0.4444444444444444,\"#bd3786\"],[0.5555555555555556,\"#d8576b\"],[0.6666666666666666,\"#ed7953\"],[0.7777777777777778,\"#fb9f3a\"],[0.8888888888888888,\"#fdca26\"],[1.0,\"#f0f921\"]]},\"colorway\":[\"#636efa\",\"#EF553B\",\"#00cc96\",\"#ab63fa\",\"#FFA15A\",\"#19d3f3\",\"#FF6692\",\"#B6E880\",\"#FF97FF\",\"#FECB52\"],\"font\":{\"color\":\"#2a3f5f\"},\"geo\":{\"bgcolor\":\"white\",\"lakecolor\":\"white\",\"landcolor\":\"#E5ECF6\",\"showlakes\":true,\"showland\":true,\"subunitcolor\":\"white\"},\"hoverlabel\":{\"align\":\"left\"},\"hovermode\":\"closest\",\"mapbox\":{\"style\":\"light\"},\"paper_bgcolor\":\"white\",\"plot_bgcolor\":\"#E5ECF6\",\"polar\":{\"angularaxis\":{\"gridcolor\":\"white\",\"linecolor\":\"white\",\"ticks\":\"\"},\"bgcolor\":\"#E5ECF6\",\"radialaxis\":{\"gridcolor\":\"white\",\"linecolor\":\"white\",\"ticks\":\"\"}},\"scene\":{\"xaxis\":{\"backgroundcolor\":\"#E5ECF6\",\"gridcolor\":\"white\",\"gridwidth\":2,\"linecolor\":\"white\",\"showbackground\":true,\"ticks\":\"\",\"zerolinecolor\":\"white\"},\"yaxis\":{\"backgroundcolor\":\"#E5ECF6\",\"gridcolor\":\"white\",\"gridwidth\":2,\"linecolor\":\"white\",\"showbackground\":true,\"ticks\":\"\",\"zerolinecolor\":\"white\"},\"zaxis\":{\"backgroundcolor\":\"#E5ECF6\",\"gridcolor\":\"white\",\"gridwidth\":2,\"linecolor\":\"white\",\"showbackground\":true,\"ticks\":\"\",\"zerolinecolor\":\"white\"}},\"shapedefaults\":{\"line\":{\"color\":\"#2a3f5f\"}},\"ternary\":{\"aaxis\":{\"gridcolor\":\"white\",\"linecolor\":\"white\",\"ticks\":\"\"},\"baxis\":{\"gridcolor\":\"white\",\"linecolor\":\"white\",\"ticks\":\"\"},\"bgcolor\":\"#E5ECF6\",\"caxis\":{\"gridcolor\":\"white\",\"linecolor\":\"white\",\"ticks\":\"\"}},\"title\":{\"x\":0.05},\"xaxis\":{\"automargin\":true,\"gridcolor\":\"white\",\"linecolor\":\"white\",\"ticks\":\"\",\"title\":{\"standoff\":15},\"zerolinecolor\":\"white\",\"zerolinewidth\":2},\"yaxis\":{\"automargin\":true,\"gridcolor\":\"white\",\"linecolor\":\"white\",\"ticks\":\"\",\"title\":{\"standoff\":15},\"zerolinecolor\":\"white\",\"zerolinewidth\":2}}},\"title\":{\"text\":\"Material $/W vs System Size (kW-DC)\",\"x\":0.5},\"xaxis\":{\"tickformat\":\"digits\",\"title\":{\"text\":\"System kW-DC\"}},\"yaxis\":{\"title\":{\"text\":\"Racking Material $/W\"}}},                        {\"responsive\": true}                    ).then(function(){\n",
       "                            \n",
       "var gd = document.getElementById('96172dd6-9923-4aa5-a959-f30726684547');\n",
       "var x = new MutationObserver(function (mutations, observer) {{\n",
       "        var display = window.getComputedStyle(gd).display;\n",
       "        if (!display || display === 'none') {{\n",
       "            console.log([gd, 'removed!']);\n",
       "            Plotly.purge(gd);\n",
       "            observer.disconnect();\n",
       "        }}\n",
       "}});\n",
       "\n",
       "// Listen for the removal of the full notebook cells\n",
       "var notebookContainer = gd.closest('#notebook-container');\n",
       "if (notebookContainer) {{\n",
       "    x.observe(notebookContainer, {childList: true});\n",
       "}}\n",
       "\n",
       "// Listen for the clearing of the current output cell\n",
       "var outputEl = gd.closest('.output');\n",
       "if (outputEl) {{\n",
       "    x.observe(outputEl, {childList: true});\n",
       "}}\n",
       "\n",
       "                        })                };                });            </script>        </div>"
      ]
     },
     "metadata": {},
     "output_type": "display_data"
    }
   ],
   "source": [
    "import pandas as pd\n",
    "import plotly.express as px\n",
    "import plotly.graph_objects as go\n",
    "import numpy as np\n",
    "\n",
    "input_df = pd.read_csv(r\"C:\\Users\\pliang\\Documents\\Personal\\Tracker Analysis\\Tracker Quotes 2018-2021 v2.csv\", \n",
    "                       encoding = \"utf8\", thousands = \",\")\n",
    "#convert string to date-time format to enable date related analysis\n",
    "input_df[\"Date\"] = pd.to_datetime(input_df[\"Date\"]).dt.strftime(\"%m-%d-%Y\")\n",
    "convert_dict = {\"System Size (kW)\": float}\n",
    "input_df = input_df.astype(convert_dict)\n",
    "fig = go.Figure()\n",
    "for vendor in input_df[\"Manufacturer\"].unique():\n",
    "    print(input_df[input_df[\"Manufacturer\"] == vendor][\"System Size (kW)\"])\n",
    "    fig.add_trace(go.Scatter(x = input_df[input_df[\"Manufacturer\"] == vendor][\"System Size (kW)\"],\n",
    "                             y = input_df[input_df[\"Manufacturer\"] == vendor][\"Adjusted Material $/W\"],\n",
    "                             name = vendor,\n",
    "                             mode = \"markers\",\n",
    "                             customdata = np.stack((input_df[input_df[\"Manufacturer\"] == vendor][\"Date\"],\n",
    "                                           input_df[input_df[\"Manufacturer\"] == vendor][\"Project\"]), axis = -1),\n",
    "                             hovertemplate = '<b> %{customdata[1]} </b>' +\\\n",
    "                             '<br>%{customdata[0]}<br>' +\\\n",
    "                             '<br>%{x:.2f} kW' +\\\n",
    "                             '<br>$%{y:.3f} / W'\n",
    "                            )\n",
    "                 )\n",
    "\n",
    "buttons = []\n",
    "for item in df[\"Coast\"].unique():\n",
    "    buttons.append(dict(method = \"restyle\",\n",
    "                        label = item,\n",
    "                        visible = True,\n",
    "                        args = []))\n",
    "fig.update_layout(title = \"Material $/W vs System Size (kW-DC)\",\n",
    "                  title_x = 0.5,\n",
    "                  xaxis_tickformat = \"digits\",\n",
    "                  xaxis_title = \"System kW-DC\",\n",
    "                  yaxis_title = \"Racking Material $/W\")\n",
    "fig.show()"
   ]
  },
  {
   "cell_type": "code",
   "execution_count": 2,
   "metadata": {},
   "outputs": [
    {
     "data": {
      "application/vnd.jupyter.widget-view+json": {
       "model_id": "a4d5779c1ff44805a52d11c562c9b692",
       "version_major": 2,
       "version_minor": 0
      },
      "text/plain": [
       "VBox(children=(Dropdown(options=(('All', ['West', 'East']), ('West', ['West']), ('East', ['East'])), value=['W…"
      ]
     },
     "metadata": {},
     "output_type": "display_data"
    }
   ],
   "source": [
    "import pandas as pd\n",
    "import plotly.io as pio\n",
    "import plotly.express as px\n",
    "import plotly.graph_objects as go\n",
    "import numpy as np\n",
    "import ipywidgets as w\n",
    "from IPython.display import display\n",
    "\n",
    "input_df = pd.read_csv(r\"C:\\Users\\pliang\\Documents\\Personal\\Tracker Analysis\\Tracker Quotes 2018-2021 v2.csv\", \n",
    "                       encoding = \"utf8\", thousands = \",\")\n",
    "#convert string to date-time format to enable date related analysis\n",
    "input_df[\"Date\"] = pd.to_datetime(input_df[\"Date\"]).dt.strftime(\"%m-%d-%Y\")\n",
    "convert_dict = {\"System Size (kW)\": float}\n",
    "input_df = input_df.astype(convert_dict)\n",
    "\n",
    "trace_list = []\n",
    "for vendor in input_df[\"Manufacturer\"].unique():\n",
    "    trace_list.append(\n",
    "        {\"x\": input_df[input_df[\"Manufacturer\"] == vendor][\"System Size (kW)\"],\n",
    "         \"y\": input_df[input_df[\"Manufacturer\"] == vendor][\"Adjusted Material $/W\"],\n",
    "         \"type\": \"scatter\",\n",
    "         \"mode\": \"markers\",\n",
    "         \"name\": \"{}\".format(vendor),\n",
    "         \"customdata\": np.stack((input_df[input_df[\"Manufacturer\"] == vendor][\"Date\"],\n",
    "                                 input_df[input_df[\"Manufacturer\"] == vendor][\"Project\"]), axis = -1),\n",
    "         \"hovertemplate\": '<b> %{customdata[1]} </b>' +\\\n",
    "                          '<br>%{customdata[0]}<br>' +\\\n",
    "                          '<br>%{x:.2f} kW' +\\\n",
    "                          '<br>$%{y:.3f} / W'\n",
    "        }\n",
    "    )\n",
    "\n",
    "layout = dict(title = \"Material $/W vs System Size (kW-DC)\",\n",
    "              title_x = 0.5,\n",
    "              xaxis = dict(title = \"System kW-DC\",\n",
    "                           tickformat = \"digits\"),\n",
    "              yaxis = dict(title = \"Racking Material $/W\")\n",
    "             )\n",
    "\n",
    "fig = go.FigureWidget(data = trace_list, layout = layout)\n",
    "\n",
    "def update_fig(change):\n",
    "    aux_df = input_df[input_df[\"Coast\"].isin(change[\"new\"])]\n",
    "    with fig.batch_update():\n",
    "        for trace, vendor in zip(fig.data, [x for x in input_df[\"Manufacturer\"].unique()]):\n",
    "            trace.x = aux_df[aux_df[\"Manufacturer\"] == vendor][\"System Size (kW)\"]\n",
    "            trace.y = aux_df[aux_df[\"Manufacturer\"] == vendor][\"Adjusted Material $/W\"]\n",
    "\n",
    "drop = w.Dropdown(options =[\n",
    "    (\"All\", [\"West\", \"East\"]),\n",
    "    (\"West\", [\"West\"]),\n",
    "    (\"East\", [\"East\"]),\n",
    "])\n",
    "\n",
    "drop.observe(update_fig, names = \"value\")\n",
    "display(w.VBox([drop, fig]))"
   ]
  },
  {
   "cell_type": "code",
   "execution_count": null,
   "metadata": {},
   "outputs": [],
   "source": []
  }
 ],
 "metadata": {
  "kernelspec": {
   "display_name": "Python 3",
   "language": "python",
   "name": "python3"
  },
  "language_info": {
   "codemirror_mode": {
    "name": "ipython",
    "version": 3
   },
   "file_extension": ".py",
   "mimetype": "text/x-python",
   "name": "python",
   "nbconvert_exporter": "python",
   "pygments_lexer": "ipython3",
   "version": "3.7.5"
  }
 },
 "nbformat": 4,
 "nbformat_minor": 2
}
